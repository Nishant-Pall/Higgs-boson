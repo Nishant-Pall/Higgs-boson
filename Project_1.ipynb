{
 "cells": [
  {
   "cell_type": "code",
   "execution_count": 4,
   "metadata": {
    "collapsed": true
   },
   "outputs": [],
   "source": [
    "def compute_gradient_LS(y, tx, w):\n",
    "    N = y.shape[0]\n",
    "    e = y - np.dot(tx, w)\n",
    "    grad = (-1/N)*np.dot(tx.T, e)\n",
    "    return grad"
   ]
  },
  {
   "cell_type": "code",
   "execution_count": 5,
   "metadata": {
    "collapsed": true
   },
   "outputs": [],
   "source": [
    "def least_squares_GD(y, tx, initial_w, max_iters, gamma):\n",
    "    w = initial_w\n",
    "    for n_iter in range(max_iters):\n",
    "        grad = compute_gradient_LS(y, tx, w)\n",
    "        w = w - gamma*grad\n",
    "        #print(w)\n",
    "        \n",
    "        print(\"Gradient Descent({bi}/{ti}): w0={w0}, w1={w1}\".format(\n",
    "              bi=n_iter, ti=max_iters - 1, w0=w[0], w1=w[1]))\n",
    "\n",
    "    return w"
   ]
  },
  {
   "cell_type": "code",
   "execution_count": 6,
   "metadata": {
    "collapsed": true
   },
   "outputs": [],
   "source": [
    "def least_squares_SGD(y, tx, initial_w, max_iters, gamma):\n",
    "    N = y.shape[0]\n",
    "    w = initial_w\n",
    "    for i in range(max_iters):\n",
    "        index = i%N\n",
    "        grad = compute_gradient_LS(y[index], x[index], w)\n",
    "\n",
    "        w = w - gamma*grad\n",
    "\n",
    "        print(\"Stochastic Gradient Descent({bi}/{ti}): w0={w0}, w1={w1}\".format(\n",
    "              bi=i, ti=max_iters - 1, w0=w[0], w1=w[1]))\n",
    "\n",
    "        return w"
   ]
  },
  {
   "cell_type": "code",
   "execution_count": 7,
   "metadata": {
    "collapsed": true
   },
   "outputs": [],
   "source": [
    "def least_squares(y, tx):\n",
    "    temp1 = np.dot(tx.T, y)\n",
    "    temp2 = np.linalg.inv(np.dot(tx.T, tx))\n",
    "    w = np.dot(temp2, temp1)\n",
    "    \n",
    "    return w"
   ]
  },
  {
   "cell_type": "code",
   "execution_count": 8,
   "metadata": {
    "collapsed": true
   },
   "outputs": [],
   "source": [
    "def ridge_regression(y, tx, lambda_):\n",
    "    temp = np.dot(tx.T, y)\n",
    "    inner = np.dot(tx.T, tx)\n",
    "    w = np.linalg.inv(inner + lambda_)\n",
    "    w = np.dot(w, temp)\n",
    "\n",
    "    return w"
   ]
  },
  {
   "cell_type": "code",
   "execution_count": 9,
   "metadata": {
    "collapsed": true
   },
   "outputs": [],
   "source": [
    "def compute_gradient_logistic(y, tx, w):\n",
    "    insideSigmoid = (-1) * y * np.dot(tx, w)\n",
    "    # print 'insideSigmoid:'+str(insideSigmoid)\n",
    "    r = (-1)*sigmoid(insideSigmoid) * y\n",
    "    # print 'r:'+str(r)\n",
    "\n",
    "    grad = np.dot(tx.T, r)\n",
    "    return grad"
   ]
  },
  {
   "cell_type": "code",
   "execution_count": 10,
   "metadata": {
    "collapsed": true
   },
   "outputs": [],
   "source": [
    "def logistic_regression(y, tx, initial_w, max_iters, gamma):\n",
    "    w = initial_w\n",
    "    for n_iter in range(max_iters):\n",
    "        grad = compute_gradient_logistic(y, tx, w)\n",
    "        w = w - gamma*grad\n",
    "        #print(w)\n",
    "        \n",
    "        print(\"Gradient Descent({bi}/{ti}): w0={w0}, w1={w1}\".format(\n",
    "              bi=n_iter, ti=max_iters - 1, w0=w[0], w1=w[1]))\n",
    "\n",
    "    return w"
   ]
  },
  {
   "cell_type": "code",
   "execution_count": null,
   "metadata": {
    "collapsed": true
   },
   "outputs": [],
   "source": []
  }
 ],
 "metadata": {
  "kernelspec": {
   "display_name": "Python 3",
   "language": "python",
   "name": "python3"
  },
  "language_info": {
   "codemirror_mode": {
    "name": "ipython",
    "version": 3
   },
   "file_extension": ".py",
   "mimetype": "text/x-python",
   "name": "python",
   "nbconvert_exporter": "python",
   "pygments_lexer": "ipython3",
   "version": "3.6.1"
  }
 },
 "nbformat": 4,
 "nbformat_minor": 2
}
